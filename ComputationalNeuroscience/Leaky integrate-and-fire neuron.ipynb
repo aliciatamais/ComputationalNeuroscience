{
 "cells": [
  {
   "cell_type": "code",
   "execution_count": 21,
   "metadata": {},
   "outputs": [],
   "source": [
    "import pandas as pd\n",
    "import numpy as np\n",
    "import matplotlib.pyplot as plt\n",
    "import seaborn as sns"
   ]
  },
  {
   "cell_type": "code",
   "execution_count": 22,
   "metadata": {},
   "outputs": [
    {
     "data": {
      "text/plain": [
       "'\\nSimulating a model leaky integrate-and-fire neuron\\n'"
      ]
     },
     "execution_count": 22,
     "metadata": {},
     "output_type": "execute_result"
    }
   ],
   "source": [
    "\"\"\"\n",
    "Simulating a model leaky integrate-and-fire neuron\n",
    "\"\"\""
   ]
  },
  {
   "cell_type": "code",
   "execution_count": 72,
   "metadata": {},
   "outputs": [],
   "source": [
    "\"\"\"Defining the parameters\"\"\"\n",
    "t0 = 0 #initial time\n",
    "dt = 0.0001 #time steps in s\n",
    "tmax = 2 #maximum time in s\n",
    "El = -0.07 #leaky potential in volts\n",
    "Rm = 5000 #membrane resistance in ohms\n",
    "Cm = 0.000000002 #membrane capacitance in faraday\n",
    "Vth = -0.05 # spike threshold in volts\n",
    "Vreset = -0.065 #reset potential in volts\n",
    "Gl = 0.00000001 #membrane conductance in siemens\n",
    "ton = 0.90 #time to begin applied current (onset)\n",
    "toff = 1.10 #time to end applied current (offset)\n",
    "non = round(ton/dt)+1 #time-point index of current onset\n",
    "noff = round(toff/dt)+1 #time-point index of current offset\n",
    "fr = [] #firing rate"
   ]
  },
  {
   "cell_type": "code",
   "execution_count": 73,
   "metadata": {},
   "outputs": [],
   "source": [
    "\"\"\"Arrays for time\"\"\"\n",
    "tvec = np.linspace(t0, tmax, num = int(tmax/dt)) #array with time starting from 0 to 2s (step of 0.0001s)"
   ]
  },
  {
   "cell_type": "code",
   "execution_count": 86,
   "metadata": {},
   "outputs": [],
   "source": [
    "\"\"\"Array with the applied currents (Iapp) and membrane potential\"\"\"\n",
    "Iapp = [0.0000000005] #current to be applied\n",
    "Ntrials = len(Iapp)\n",
    "for trial in range(0,Ntrials):\n",
    "    I = np.zeros(len(tvec))\n",
    "    I[non:noff] = Iapp[trial]\n",
    "    V = np.empty(len(tvec)) #create an array with the size of tvec\n",
    "    V[0] = El #the first element of array V is the leaky potential\n",
    "    spikes = np.zeros(len(tvec))"
   ]
  },
  {
   "cell_type": "code",
   "execution_count": 87,
   "metadata": {},
   "outputs": [],
   "source": [
    "    \"\"\"Updating the values of membrane potential\"\"\"\n",
    "    for i in range(1,int(len(tvec))):\n",
    "        tval = tvec[i]\n",
    "        dVdt = (I[i] + Gl*(El - V[i-1]))/Cm #rate of change of membrane potential\n",
    "        V[i] = V[i-1] + (dt*dVdt)\n",
    "        if V[i] >= Vth:\n",
    "            spikes[i] = 1\n",
    "            V[i] = Vreset"
   ]
  },
  {
   "cell_type": "code",
   "execution_count": 88,
   "metadata": {},
   "outputs": [
    {
     "data": {
      "text/html": [
       "<div>\n",
       "<style scoped>\n",
       "    .dataframe tbody tr th:only-of-type {\n",
       "        vertical-align: middle;\n",
       "    }\n",
       "\n",
       "    .dataframe tbody tr th {\n",
       "        vertical-align: top;\n",
       "    }\n",
       "\n",
       "    .dataframe thead th {\n",
       "        text-align: right;\n",
       "    }\n",
       "</style>\n",
       "<table border=\"1\" class=\"dataframe\">\n",
       "  <thead>\n",
       "    <tr style=\"text-align: right;\">\n",
       "      <th></th>\n",
       "      <th>Time</th>\n",
       "      <th>Membrane Potential</th>\n",
       "      <th>Current</th>\n",
       "      <th>Spikes</th>\n",
       "    </tr>\n",
       "  </thead>\n",
       "  <tbody>\n",
       "    <tr>\n",
       "      <th>19995</th>\n",
       "      <td>1.9996</td>\n",
       "      <td>-0.069904</td>\n",
       "      <td>0.0</td>\n",
       "      <td>0.0</td>\n",
       "    </tr>\n",
       "    <tr>\n",
       "      <th>19996</th>\n",
       "      <td>1.9997</td>\n",
       "      <td>-0.069904</td>\n",
       "      <td>0.0</td>\n",
       "      <td>0.0</td>\n",
       "    </tr>\n",
       "    <tr>\n",
       "      <th>19997</th>\n",
       "      <td>1.9998</td>\n",
       "      <td>-0.069904</td>\n",
       "      <td>0.0</td>\n",
       "      <td>0.0</td>\n",
       "    </tr>\n",
       "    <tr>\n",
       "      <th>19998</th>\n",
       "      <td>1.9999</td>\n",
       "      <td>-0.069904</td>\n",
       "      <td>0.0</td>\n",
       "      <td>0.0</td>\n",
       "    </tr>\n",
       "    <tr>\n",
       "      <th>19999</th>\n",
       "      <td>2.0000</td>\n",
       "      <td>-0.069904</td>\n",
       "      <td>0.0</td>\n",
       "      <td>0.0</td>\n",
       "    </tr>\n",
       "  </tbody>\n",
       "</table>\n",
       "</div>"
      ],
      "text/plain": [
       "         Time  Membrane Potential  Current  Spikes\n",
       "19995  1.9996           -0.069904      0.0     0.0\n",
       "19996  1.9997           -0.069904      0.0     0.0\n",
       "19997  1.9998           -0.069904      0.0     0.0\n",
       "19998  1.9999           -0.069904      0.0     0.0\n",
       "19999  2.0000           -0.069904      0.0     0.0"
      ]
     },
     "execution_count": 88,
     "metadata": {},
     "output_type": "execute_result"
    }
   ],
   "source": [
    "    \"\"\"Create a dataframe containing the data to make plot\"\"\"\n",
    "    df = pd.DataFrame(data=[tvec, V, I, spikes]).T\n",
    "    df.columns = [\"Time\", \"Membrane Potential\", \"Current\", \"Spikes\"]\n",
    "    df.head()\n",
    "    df.tail()"
   ]
  },
  {
   "cell_type": "code",
   "execution_count": 89,
   "metadata": {},
   "outputs": [
    {
     "data": {
      "image/png": "[encoded data removed]",
      "text/plain": [
       "<Figure size 432x288 with 1 Axes>"
      ]
     },
     "metadata": {
      "needs_background": "light"
     },
     "output_type": "display_data"
    },
    {
     "data": {
      "image/png": "[encoded data removed]",
      "text/plain": [
       "<Figure size 432x288 with 1 Axes>"
      ]
     },
     "metadata": {
      "needs_background": "light"
     },
     "output_type": "display_data"
    },
    {
     "data": {
      "image/png": "[encoded data removed]",
      "text/plain": [
       "<Figure size 432x288 with 1 Axes>"
      ]
     },
     "metadata": {
      "needs_background": "light"
     },
     "output_type": "display_data"
    }
   ],
   "source": [
    "    \"\"\"Plotting a graph membrane potential to time\"\"\"\n",
    "    g = sns.lineplot(x=\"Time\", y=\"Membrane Potential\", data=df)\n",
    "    plt.show()\n",
    "    h = sns.lineplot(x=\"Time\", y=\"Current\", data=df)\n",
    "    plt.show()\n",
    "    i = sns.lineplot(x=\"Time\", y=\"Spikes\", data=df)\n",
    "    plt.show() "
   ]
  },
  {
   "cell_type": "code",
   "execution_count": null,
   "metadata": {},
   "outputs": [],
   "source": []
  }
 ],
 "metadata": {
  "kernelspec": {
   "display_name": "Python 3",
   "language": "python",
   "name": "python3"
  },
  "language_info": {
   "codemirror_mode": {
    "name": "ipython",
    "version": 3
   },
   "file_extension": ".py",
   "mimetype": "text/x-python",
   "name": "python",
   "nbconvert_exporter": "python",
   "pygments_lexer": "ipython3",
   "version": "3.8.2"
  }
 },
 "nbformat": 4,
 "nbformat_minor": 4
}
